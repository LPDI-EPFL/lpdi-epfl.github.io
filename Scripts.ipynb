{
 "cells": [
  {
   "cell_type": "markdown",
   "metadata": {},
   "source": [
    "## Papers"
   ]
  },
  {
   "cell_type": "code",
   "execution_count": null,
   "metadata": {},
   "outputs": [],
   "source": [
    "from pymed import PubMed\n",
    "from os import path"
   ]
  },
  {
   "cell_type": "code",
   "execution_count": null,
   "metadata": {},
   "outputs": [],
   "source": [
    "pubmed = PubMed(tool=\"paperList\", email=\"kirtan.701@gmail.com\")"
   ]
  },
  {
   "cell_type": "code",
   "execution_count": null,
   "metadata": {},
   "outputs": [],
   "source": [
    "query = 'Correia BE[author]'"
   ]
  },
  {
   "cell_type": "code",
   "execution_count": null,
   "metadata": {},
   "outputs": [],
   "source": [
    "publications = pubmed.query(query, max_results=500)"
   ]
  },
  {
   "cell_type": "code",
   "execution_count": null,
   "metadata": {},
   "outputs": [],
   "source": [
    "for article in publications:\n",
    "    print(dir(article))\n",
    "    \n",
    "    break"
   ]
  },
  {
   "cell_type": "code",
   "execution_count": null,
   "metadata": {},
   "outputs": [],
   "source": [
    "def get_filename(article):\n",
    "    words = '-'.join(article.title.split(' ')[:3])\n",
    "    date = '-'.join([str(article.publication_date.year), \n",
    "                     str(article.publication_date.month), \n",
    "                     str(article.publication_date.day)])\n",
    "    title = '-'.join([date, words]) + '.md'\n",
    "    return(title)\n",
    "\n",
    "def get_authors(article):\n",
    "    author_list = []\n",
    "    for author in article.authors:\n",
    "        name =  author['lastname'] + ' ' + author['initials']\n",
    "        author_list.append(name)\n",
    "        authors = ', '.join(author_list)\n",
    "    return(authors, author_list[0])\n",
    "\n",
    "def clean_journal_name(journal):\n",
    "    if(journal.find('(') > 0):\n",
    "        cleaned_name = journal[:journal.find('(')]\n",
    "        return(cleaned_name.rstrip())\n",
    "    elif(journal.find(':') > 0):\n",
    "        cleaned_name = journal[:journal.find(':')]\n",
    "        return(cleaned_name.rstrip())\n",
    "    else:\n",
    "        return(journal)\n",
    "\n",
    "\n",
    "def get_acronym(journal):\n",
    "    if(journal == 'Proceedings of the National Academy of Sciences of the United States of America'):\n",
    "        return('PNAS')    \n",
    "    else:\n",
    "        return(clean_journal_name(journal))\n",
    "    \n",
    "def get_shortref(article):\n",
    "    if(len(article.authors) == 1):\n",
    "        shortref = (article.authors[0]['lastname'] + ' ' + \n",
    "        get_acronym(article.journal) + ' '+ \n",
    "        str(article.publication_date.year))\n",
    "        return(shortref)\n",
    "    elif(len(article.authors) == 2):\n",
    "        shortref = (article.authors[0]['lastname'] + ' and ' \n",
    "        + article.authors[1]['lastname'] + ' '\n",
    "        + get_acronym(article.journal) + ' '\n",
    "        + str(article.publication_date.year))\n",
    "        return(shortref)\n",
    "    else:\n",
    "        shortref = (article.authors[0]['lastname'] + ' et al. ' \n",
    "        + get_acronym(article.journal) + ' '\n",
    "        + str(article.publication_date.year))\n",
    "        return(shortref)"
   ]
  },
  {
   "cell_type": "code",
   "execution_count": null,
   "metadata": {},
   "outputs": [],
   "source": [
    "for article in publications:\n",
    "    filename = get_filename(article)\n",
    "    title = article.title.rstrip('.').replace(':', '-')\n",
    "    authors, first_author = get_authors(article)\n",
    "    journal = clean_journal_name(article.journal)\n",
    "    journal_acronym = get_acronym(article.journal)\n",
    "    pmid = article.pubmed_id.split('\\n')[0]\n",
    "    doi = article.doi\n",
    "    abstract = article.abstract\n",
    "    year = str(article.publication_date.year)\n",
    "    shortref = get_shortref(article)\n",
    "    \n",
    "    if(path.exists('../papers/_posts/'+filename)):\n",
    "        continue\n",
    "    else:\n",
    "        f = open('../papers/_posts/' + filename,\"w+\")\n",
    "        f.write('---\\r\\n')\n",
    "        f.write('layout: paper\\r\\n')\n",
    "        f.write('published: true\\r\\n')\n",
    "        f.write('category: paper\\r\\n')\n",
    "        f.write('image: /assets/images/papers/default-paper.svg\\r\\n')\n",
    "        f.write('title : %s\\r\\n' % title)\n",
    "        f.write('year : %s\\r\\n' % year)\n",
    "        f.write('shortref : %s\\r\\n' % shortref)\n",
    "        f.write('journal : %s\\r\\n' % journal)\n",
    "        f.write('pmid : %s\\r\\n' % pmid)\n",
    "        f.write('authors : %s\\r\\n' % authors)\n",
    "        f.write('doi : %s\\r\\n' % doi)\n",
    "        f.write('---\\r\\n')\n",
    "        f.write('{% include JB/setup %}\\r\\n\\n')\n",
    "        f.write('# Abstract\\r\\n\\n')\n",
    "        f.write('%s' % abstract)\n",
    "        f.close()\n",
    "        i = i + 1\n"
   ]
  },
  {
   "cell_type": "markdown",
   "metadata": {},
   "source": [
    "## Team"
   ]
  },
  {
   "cell_type": "code",
   "execution_count": null,
   "metadata": {},
   "outputs": [],
   "source": []
  }
 ],
 "metadata": {
  "kernelspec": {
   "display_name": "Python 3",
   "language": "python",
   "name": "python3"
  },
  "language_info": {
   "codemirror_mode": {
    "name": "ipython",
    "version": 3
   },
   "file_extension": ".py",
   "mimetype": "text/x-python",
   "name": "python",
   "nbconvert_exporter": "python",
   "pygments_lexer": "ipython3",
   "version": "3.6.8"
  }
 },
 "nbformat": 4,
 "nbformat_minor": 2
}
